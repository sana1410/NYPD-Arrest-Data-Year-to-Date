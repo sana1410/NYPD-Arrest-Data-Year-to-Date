{
 "cells": [
  {
   "cell_type": "code",
   "execution_count": 1,
   "id": "91996e65",
   "metadata": {},
   "outputs": [
    {
     "name": "stdout",
     "output_type": "stream",
     "text": [
      "Requirement already satisfied: pandas in c:\\users\\sanay\\anaconda3\\lib\\site-packages (1.5.3)\n",
      "Requirement already satisfied: numpy>=1.21.0 in c:\\users\\sanay\\anaconda3\\lib\\site-packages (from pandas) (1.23.5)\n",
      "Requirement already satisfied: python-dateutil>=2.8.1 in c:\\users\\sanay\\anaconda3\\lib\\site-packages (from pandas) (2.8.2)\n",
      "Requirement already satisfied: pytz>=2020.1 in c:\\users\\sanay\\anaconda3\\lib\\site-packages (from pandas) (2022.7)\n",
      "Requirement already satisfied: six>=1.5 in c:\\users\\sanay\\anaconda3\\lib\\site-packages (from python-dateutil>=2.8.1->pandas) (1.16.0)\n",
      "Collecting sodapy\n",
      "  Downloading sodapy-2.2.0-py2.py3-none-any.whl (15 kB)\n",
      "Requirement already satisfied: requests>=2.28.1 in c:\\users\\sanay\\anaconda3\\lib\\site-packages (from sodapy) (2.31.0)\n",
      "Requirement already satisfied: certifi>=2017.4.17 in c:\\users\\sanay\\anaconda3\\lib\\site-packages (from requests>=2.28.1->sodapy) (2024.2.2)\n",
      "Requirement already satisfied: urllib3<3,>=1.21.1 in c:\\users\\sanay\\anaconda3\\lib\\site-packages (from requests>=2.28.1->sodapy) (2.2.1)\n",
      "Requirement already satisfied: idna<4,>=2.5 in c:\\users\\sanay\\anaconda3\\lib\\site-packages (from requests>=2.28.1->sodapy) (3.4)\n",
      "Requirement already satisfied: charset-normalizer<4,>=2 in c:\\users\\sanay\\anaconda3\\lib\\site-packages (from requests>=2.28.1->sodapy) (2.0.4)\n",
      "Installing collected packages: sodapy\n",
      "Successfully installed sodapy-2.2.0\n"
     ]
    },
    {
     "name": "stderr",
     "output_type": "stream",
     "text": [
      "WARNING:root:Requests made without an app_token will be subject to strict throttling limits.\n"
     ]
    }
   ],
   "source": [
    "#!/usr/bin/env python\n",
    "\n",
    "# make sure to install these packages before running:\n",
    "!pip install pandas\n",
    "!pip install sodapy\n",
    "\n",
    "import pandas as pd\n",
    "from sodapy import Socrata\n",
    "\n",
    "# Unauthenticated client only works with public data sets. Note 'None'\n",
    "# in place of application token, and no username or password:\n",
    "client = Socrata(\"data.cityofnewyork.us\", None)\n",
    "\n",
    "# Example authenticated client (needed for non-public datasets):\n",
    "# client = Socrata(data.cityofnewyork.us,\n",
    "#                  MyAppToken,\n",
    "#                  username=\"user@example.com\",\n",
    "#                  password=\"AFakePassword\")\n",
    "\n",
    "# First 2000 results, returned as JSON from API / converted to Python list of\n",
    "# dictionaries by sodapy.\n",
    "results = client.get(\"uip8-fykc\", limit=2000)\n",
    "\n",
    "# Convert to pandas DataFrame\n",
    "results_df = pd.DataFrame.from_records(results)"
   ]
  },
  {
   "cell_type": "code",
   "execution_count": 2,
   "id": "1474e4aa",
   "metadata": {},
   "outputs": [
    {
     "name": "stdout",
     "output_type": "stream",
     "text": [
      "<class 'pandas.core.frame.DataFrame'>\n",
      "RangeIndex: 2000 entries, 0 to 1999\n",
      "Data columns (total 24 columns):\n",
      " #   Column                       Non-Null Count  Dtype \n",
      "---  ------                       --------------  ----- \n",
      " 0   arrest_key                   2000 non-null   object\n",
      " 1   arrest_date                  2000 non-null   object\n",
      " 2   pd_cd                        2000 non-null   object\n",
      " 3   pd_desc                      2000 non-null   object\n",
      " 4   ky_cd                        2000 non-null   object\n",
      " 5   ofns_desc                    2000 non-null   object\n",
      " 6   law_code                     2000 non-null   object\n",
      " 7   law_cat_cd                   1984 non-null   object\n",
      " 8   arrest_boro                  2000 non-null   object\n",
      " 9   arrest_precinct              2000 non-null   object\n",
      " 10  jurisdiction_code            2000 non-null   object\n",
      " 11  age_group                    2000 non-null   object\n",
      " 12  perp_sex                     2000 non-null   object\n",
      " 13  perp_race                    2000 non-null   object\n",
      " 14  x_coord_cd                   2000 non-null   object\n",
      " 15  y_coord_cd                   2000 non-null   object\n",
      " 16  latitude                     2000 non-null   object\n",
      " 17  longitude                    2000 non-null   object\n",
      " 18  geocoded_column              2000 non-null   object\n",
      " 19  :@computed_region_f5dn_yrer  2000 non-null   object\n",
      " 20  :@computed_region_yeji_bk3q  2000 non-null   object\n",
      " 21  :@computed_region_92fq_4b7q  2000 non-null   object\n",
      " 22  :@computed_region_sbqj_enih  2000 non-null   object\n",
      " 23  :@computed_region_efsh_h5xi  1995 non-null   object\n",
      "dtypes: object(24)\n",
      "memory usage: 375.1+ KB\n"
     ]
    }
   ],
   "source": [
    "results_df.info()"
   ]
  },
  {
   "cell_type": "code",
   "execution_count": 8,
   "id": "39efb887",
   "metadata": {},
   "outputs": [],
   "source": [
    "results_df=results_df.iloc[:,[0,1,2,3,4,5,6,7,8,9,10,11,12,13,14,15,16,17,18]]"
   ]
  },
  {
   "cell_type": "code",
   "execution_count": 9,
   "id": "6c356020",
   "metadata": {},
   "outputs": [
    {
     "name": "stdout",
     "output_type": "stream",
     "text": [
      "<class 'pandas.core.frame.DataFrame'>\n",
      "RangeIndex: 2000 entries, 0 to 1999\n",
      "Data columns (total 19 columns):\n",
      " #   Column             Non-Null Count  Dtype \n",
      "---  ------             --------------  ----- \n",
      " 0   arrest_key         2000 non-null   object\n",
      " 1   arrest_date        2000 non-null   object\n",
      " 2   pd_cd              2000 non-null   object\n",
      " 3   pd_desc            2000 non-null   object\n",
      " 4   ky_cd              2000 non-null   object\n",
      " 5   ofns_desc          2000 non-null   object\n",
      " 6   law_code           2000 non-null   object\n",
      " 7   law_cat_cd         1984 non-null   object\n",
      " 8   arrest_boro        2000 non-null   object\n",
      " 9   arrest_precinct    2000 non-null   object\n",
      " 10  jurisdiction_code  2000 non-null   object\n",
      " 11  age_group          2000 non-null   object\n",
      " 12  perp_sex           2000 non-null   object\n",
      " 13  perp_race          2000 non-null   object\n",
      " 14  x_coord_cd         2000 non-null   object\n",
      " 15  y_coord_cd         2000 non-null   object\n",
      " 16  latitude           2000 non-null   object\n",
      " 17  longitude          2000 non-null   object\n",
      " 18  geocoded_column    2000 non-null   object\n",
      "dtypes: object(19)\n",
      "memory usage: 297.0+ KB\n"
     ]
    }
   ],
   "source": [
    "results_df.info()"
   ]
  },
  {
   "cell_type": "code",
   "execution_count": 13,
   "id": "8a054cd5",
   "metadata": {},
   "outputs": [],
   "source": [
    "results_df.to_csv('C:/Users/sanay/OneDrive/Documents/GitHub/NYPD-Arrest-Data Year-to-Date-/data/data.csv',header=True,index=False)"
   ]
  },
  {
   "cell_type": "code",
   "execution_count": null,
   "id": "ea389d17",
   "metadata": {},
   "outputs": [],
   "source": []
  }
 ],
 "metadata": {
  "kernelspec": {
   "display_name": "Python 3 (ipykernel)",
   "language": "python",
   "name": "python3"
  },
  "language_info": {
   "codemirror_mode": {
    "name": "ipython",
    "version": 3
   },
   "file_extension": ".py",
   "mimetype": "text/x-python",
   "name": "python",
   "nbconvert_exporter": "python",
   "pygments_lexer": "ipython3",
   "version": "3.10.9"
  }
 },
 "nbformat": 4,
 "nbformat_minor": 5
}
